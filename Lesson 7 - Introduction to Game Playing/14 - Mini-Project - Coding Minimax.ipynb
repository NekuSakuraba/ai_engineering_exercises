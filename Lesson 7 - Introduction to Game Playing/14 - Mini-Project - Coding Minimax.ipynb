{
 "cells": [
  {
   "cell_type": "code",
   "execution_count": 116,
   "metadata": {},
   "outputs": [
    {
     "name": "stdout",
     "output_type": "stream",
     "text": [
      "[(0, 0), (0, 1), (1, 0), (1, 1), (2, 0)]\n",
      "[(0, 0), (0, 1), (1, 0), (1, 1)]\n"
     ]
    }
   ],
   "source": [
    "import numpy as np\n",
    "from copy import deepcopy\n",
    "\n",
    "class GameState:\n",
    "    def __init__(self):\n",
    "        self._state = np.zeros((3,2))\n",
    "        self._state[(2,1)] = np.nan\n",
    "        \n",
    "        self._turn = 0\n",
    "        self._last_move = [None, None]\n",
    "    \n",
    "    def forecast_move(self, move):\n",
    "        \"\"\" Return a new board object with the specified move\n",
    "        applied to the current game state.\n",
    "        \n",
    "        Parameters\n",
    "        ----------\n",
    "        move: tuple\n",
    "            The target position for the active player's next move\n",
    "        \"\"\"\n",
    "        assert move in self.get_legal_moves(), 'Illegal move'\n",
    "        \n",
    "        self._state[move] = 1.\n",
    "        self._last_move[self._turn] = move\n",
    "        self._turn ^= 1\n",
    "        \n",
    "        return deepcopy(self)\n",
    "    \n",
    "    def get_legal_moves(self):\n",
    "        \"\"\" Return a list of all legal moves available to the\n",
    "        active player.  Each player should get a list of all\n",
    "        empty spaces on the board on their first move, and\n",
    "        otherwise they should get a list of all open spaces\n",
    "        in a straight line along any row, column or diagonal\n",
    "        from their current position. (Players CANNOT move\n",
    "        through obstacles or blocked squares.) Moves should\n",
    "        be a pair of integers in (column, row) order specifying\n",
    "        the zero-indexed coordinates on the board.\n",
    "        \"\"\"\n",
    "        if np.nansum(self._state) < 2:\n",
    "            return self._get()\n",
    "        \n",
    "        moves = self._get()\n",
    "#         y = self._last_move[self._turn][1]\n",
    "#         for x in range(3):\n",
    "        \n",
    "        return\n",
    "\n",
    "    def _get(self, value=0.):\n",
    "        return [(x,y) for x in range(3) for y in range(2) if self._state[x,y] == value]\n",
    "    \n",
    "    def __repr__(self):\n",
    "        return str(self._state.T)\n",
    "\n",
    "g = GameState()\n",
    "print(g.get_legal_moves())\n",
    "\n",
    "g1 = g.forecast_move((2,0))\n",
    "print(g1.get_legal_moves())\n",
    "\n",
    "# g2 = g1.forecast_move((1,0))\n",
    "# print(g2.get_legal_moves())\n",
    "# print(g2)\n",
    "\n",
    "# g1 = g2.forecast_move((0,1))\n",
    "# print(g1.get_legal_moves())\n"
   ]
  },
  {
   "cell_type": "code",
   "execution_count": 57,
   "metadata": {},
   "outputs": [
    {
     "name": "stdout",
     "output_type": "stream",
     "text": [
      "Creating empty game board...\n",
      "Getting legal moves for player 1...\n",
      "Found 5 legal moves.\n",
      "Applying move (0, 0) for player 1...\n",
      "Getting legal moves for player 2...\n",
      "Everything looks good!\n"
     ]
    }
   ],
   "source": [
    "print(\"Creating empty game board...\")\n",
    "g = GameState()\n",
    "\n",
    "print(\"Getting legal moves for player 1...\")\n",
    "p1_empty_moves = g.get_legal_moves()\n",
    "print(\"Found {} legal moves.\".format(len(p1_empty_moves or [])))\n",
    "\n",
    "print(\"Applying move (0, 0) for player 1...\")\n",
    "g1 = g.forecast_move((0, 0))\n",
    "\n",
    "print(\"Getting legal moves for player 2...\")\n",
    "p2_empty_moves = g1.get_legal_moves()\n",
    "if (0, 0) in set(p2_empty_moves):\n",
    "    print(\"Failed\\n  Uh oh! (0, 0) was not blocked properly when \" +\n",
    "          \"player 1 moved there.\")\n",
    "else:\n",
    "    print(\"Everything looks good!\")"
   ]
  }
 ],
 "metadata": {
  "kernelspec": {
   "display_name": "Python 3",
   "language": "python",
   "name": "python3"
  },
  "language_info": {
   "codemirror_mode": {
    "name": "ipython",
    "version": 3
   },
   "file_extension": ".py",
   "mimetype": "text/x-python",
   "name": "python",
   "nbconvert_exporter": "python",
   "pygments_lexer": "ipython3",
   "version": "3.5.4"
  }
 },
 "nbformat": 4,
 "nbformat_minor": 2
}
